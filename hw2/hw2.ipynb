{
 "cells": [
  {
   "cell_type": "code",
   "execution_count": 1,
   "metadata": {
    "collapsed": false
   },
   "outputs": [
    {
     "ename": "ERROR",
     "evalue": "Error in library(plotly): there is no package called 'plotly'\n",
     "output_type": "error",
     "traceback": [
      "Error in library(plotly): there is no package called 'plotly'\nTraceback:\n",
      "1. library(plotly)",
      "2. stop(txt, domain = NA)"
     ]
    }
   ],
   "source": [
    "library(cluster)\n",
    "library(plotly)"
   ]
  },
  {
   "cell_type": "code",
   "execution_count": null,
   "metadata": {
    "collapsed": true
   },
   "outputs": [],
   "source": [
    "# Read the data from a table and converts a column to the row names\n",
    "readTableWithRowNames = function(filename, nameCol = 1) {\n",
    "  # Reads the data\n",
    "  data = read.delim(filename);\n",
    "  # Set rownames\n",
    "  dimnames(data)[[nameCol]] = data[,nameCol];\n",
    "  # Remove rowname column from the data\n",
    "  data[nameCol] = NULL;\n",
    "  return(data);\n",
    "}"
   ]
  },
  {
   "cell_type": "code",
   "execution_count": null,
   "metadata": {
    "collapsed": false
   },
   "outputs": [],
   "source": [
    "data = readTableWithRowNames(\"gene_expression_n438x978.txt\")\n",
    "# print(data[1:4, 1:3])\n",
    "\n",
    "# print(dim(data))\n",
    "kmeansResults = kmeans(data, 170)\n",
    "clusters = table(kmeansResults$cluster)\n",
    "# print(clusters)\n",
    "\n",
    "output = NULL\n",
    "\n",
    "groupsSeq = seq(150, 220, 5)\n",
    "for (k in groupsSeq) {\n",
    " print(k)\n",
    " curr.kmeans <- kmeans(data, k)\n",
    " curr.sil <- silhouette(curr.kmeans$cluster, dist(data, method=\"euclidean\"))\n",
    " output <- c(output, mean(curr.sil[, \"sil_width\"]))\n",
    "}\n",
    "\n",
    "png (\"kmeans_sil.png\")\n",
    "plot (groupsSeq, output, type=\"l\", main=\"kmeans\", xlab=\"number of clusters\", ylab=\"average silhouette\")\n"
   ]
  },
  {
   "cell_type": "code",
   "execution_count": null,
   "metadata": {
    "collapsed": true
   },
   "outputs": [],
   "source": [
    "# Scatter Plot\n",
    "library(plotly)\n",
    "\n",
    "set.seed(123)\n",
    "\n",
    "x <- rnorm(1000)\n",
    "y <- rchisq(1000, df = 1, ncp = 0)\n",
    "group <- sample(LETTERS[1:5], size = 1000, replace = T)\n",
    "size <- sample(1:5, size = 1000, replace = T)\n",
    "\n",
    "ds <- data.frame(x, y, group, size)\n",
    "\n",
    "p <- plot_ly(ds, x = x, y = y, mode = \"markers\", split = group, size = size)\n",
    "layout(title = \"Scatter Plot\")\n",
    "embed_notebook(p)"
   ]
  },
  {
   "cell_type": "code",
   "execution_count": null,
   "metadata": {
    "collapsed": true
   },
   "outputs": [],
   "source": []
  },
  {
   "cell_type": "code",
   "execution_count": null,
   "metadata": {
    "collapsed": true
   },
   "outputs": [],
   "source": []
  }
 ],
 "metadata": {
  "kernelspec": {
   "display_name": "R",
   "language": "R",
   "name": "ir"
  },
  "language_info": {
   "codemirror_mode": "r",
   "file_extension": ".r",
   "mimetype": "text/x-r-source",
   "name": "R",
   "pygments_lexer": "r",
   "version": "3.3.2"
  }
 },
 "nbformat": 4,
 "nbformat_minor": 2
}
